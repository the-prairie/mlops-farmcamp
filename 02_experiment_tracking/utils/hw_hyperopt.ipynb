{
 "cells": [
  {
   "cell_type": "code",
   "execution_count": 1,
   "metadata": {},
   "outputs": [],
   "source": [
    "import argparse\n",
    "import os\n",
    "import pickle\n",
    "\n",
    "import mlflow\n",
    "from urllib.parse import urlparse\n",
    "import numpy as np\n",
    "from hyperopt import STATUS_OK, Trials, SparkTrials, fmin, hp, tpe\n",
    "from hyperopt.pyll import scope\n",
    "from sklearn.ensemble import RandomForestRegressor\n",
    "from sklearn.metrics import mean_squared_error\n",
    "\n",
    "mlflow.set_experiment(\"RandomForestHyperopt-GreenTaxi\")\n",
    "mlflow.set_tracking_uri(\"http://ec2-15-222-242-133.ca-central-1.compute.amazonaws.com:5000/\")"
   ]
  },
  {
   "cell_type": "code",
   "execution_count": 2,
   "metadata": {},
   "outputs": [],
   "source": [
    "def load_pickle(filename):\n",
    "    with open(filename, \"rb\") as f_in:\n",
    "        return pickle.load(f_in)"
   ]
  },
  {
   "cell_type": "code",
   "execution_count": 3,
   "metadata": {},
   "outputs": [],
   "source": [
    "\n",
    "data_path = \"../output\"\n",
    "X_train, y_train = load_pickle(os.path.join(data_path, \"train.pkl\"))\n",
    "X_valid, y_valid = load_pickle(os.path.join(data_path, \"valid.pkl\"))\n",
    "X_test, y_test = load_pickle(os.path.join(data_path, \"test.pkl\"))"
   ]
  },
  {
   "cell_type": "code",
   "execution_count": 4,
   "metadata": {},
   "outputs": [],
   "source": [
    "def train_and_evaluate(X_train, y_train, X_valid, y_valid, X_test, y_test, params):\n",
    "    \n",
    "    with mlflow.start_run(nested=True) as run:\n",
    "\n",
    "        rf = RandomForestRegressor(**params)\n",
    "        rf.fit(X_train, y_train)\n",
    "       \n",
    "        metrics_val = mean_squared_error(y_valid, rf.predict(X_valid), squared=False)\n",
    "        metrics_test = mean_squared_error(y_test, rf.predict(X_test), squared=False)\n",
    "        \n",
    "        metrics = {\"validation_rmse\": metrics_val, \"test_rmse\": metrics_test}\n",
    "        mlflow.log_params(params)\n",
    "        mlflow.log_metric( \"validation_rmse\", metrics_val)\n",
    "        mlflow.log_metric( \"test_rmse\", metrics_test)\n",
    "    \n",
    "           \n",
    "        return metrics\n",
    "    "
   ]
  },
  {
   "cell_type": "code",
   "execution_count": 5,
   "metadata": {},
   "outputs": [],
   "source": [
    "def objective(X_train, y_train, X_valid, y_valid, X_test, y_test, metric):\n",
    "    \n",
    "    def eval(params):\n",
    "        metrics = train_and_evaluate(\n",
    "            X_train, y_train, X_valid, y_valid, X_test, y_test, params)\n",
    "        return {\"status\": STATUS_OK, \"loss\": metrics[metric]}\n",
    "    \n",
    "    return eval\n",
    "\n",
    "\n",
    "def log_best(run: mlflow.entities.Run, metric: str) -> None:\n",
    "    \"\"\"Log the best parameters from optimization to the parent experiment.\n",
    "\n",
    "    Args:\n",
    "        run: current run to log metrics\n",
    "        metric: name of metric to select best and log\n",
    "    \"\"\"\n",
    "\n",
    "    client = mlflow.tracking.MlflowClient()\n",
    "    runs = client.search_runs(\n",
    "        [run.info.experiment_id],\n",
    "        \"tags.mlflow.parentRunId = '{run_id}' \".format(run_id=run.info.run_id))\n",
    "\n",
    "    best_run = min(runs, key=lambda run: run.data.metrics[metric])\n",
    "\n",
    "    mlflow.set_tag(\"best_run\", best_run.info.run_id)\n",
    "    mlflow.log_metric(f\"best_{metric}\", best_run.data.metrics[metric])\n",
    "    "
   ]
  },
  {
   "cell_type": "code",
   "execution_count": 16,
   "metadata": {},
   "outputs": [
    {
     "name": "stdout",
     "output_type": "stream",
     "text": [
      "  0%|          | 0/50 [00:00<?, ?trial/s, best loss=?]"
     ]
    },
    {
     "name": "stderr",
     "output_type": "stream",
     "text": [
      "                                                                                \r"
     ]
    },
    {
     "name": "stdout",
     "output_type": "stream",
     "text": [
      "  2%|▏         | 1/50 [00:13<10:40, 13.08s/trial, best loss: 7.423891644564951]"
     ]
    },
    {
     "name": "stderr",
     "output_type": "stream",
     "text": [
      "                                                                                \r"
     ]
    },
    {
     "name": "stdout",
     "output_type": "stream",
     "text": [
      "  4%|▍         | 2/50 [00:20<07:36,  9.51s/trial, best loss: 6.751804438392731]"
     ]
    },
    {
     "name": "stderr",
     "output_type": "stream",
     "text": [
      "[Stage 20:>   (0 + 1) / 1][Stage 23:>   (0 + 1) / 1][Stage 24:>   (0 + 1) / 1]  \r"
     ]
    },
    {
     "name": "stdout",
     "output_type": "stream",
     "text": [
      "  6%|▌         | 3/50 [00:35<09:25, 12.04s/trial, best loss: 6.644020610422899]"
     ]
    },
    {
     "name": "stderr",
     "output_type": "stream",
     "text": [
      "                                                                                \r"
     ]
    },
    {
     "name": "stdout",
     "output_type": "stream",
     "text": [
      "  8%|▊         | 4/50 [00:46<08:55, 11.64s/trial, best loss: 6.634872508348875]"
     ]
    },
    {
     "name": "stderr",
     "output_type": "stream",
     "text": [
      "[Stage 20:>   (0 + 1) / 1][Stage 25:>   (0 + 1) / 1][Stage 26:>   (0 + 1) / 1]  \r"
     ]
    },
    {
     "name": "stdout",
     "output_type": "stream",
     "text": [
      " 10%|█         | 5/50 [01:09<11:49, 15.76s/trial, best loss: 6.568237919397125]"
     ]
    },
    {
     "name": "stderr",
     "output_type": "stream",
     "text": [
      "                                                                                \r"
     ]
    },
    {
     "name": "stdout",
     "output_type": "stream",
     "text": [
      " 12%|█▏        | 6/50 [01:13<08:37, 11.77s/trial, best loss: 6.568237919397125]"
     ]
    },
    {
     "name": "stderr",
     "output_type": "stream",
     "text": [
      "[Stage 20:>   (0 + 1) / 1][Stage 25:>   (0 + 1) / 1][Stage 26:>   (0 + 1) / 1]\r"
     ]
    },
    {
     "name": "stdout",
     "output_type": "stream",
     "text": [
      " 14%|█▍        | 7/50 [01:16<06:23,  8.91s/trial, best loss: 6.568237919397125]"
     ]
    },
    {
     "name": "stderr",
     "output_type": "stream",
     "text": [
      "[Stage 20:>   (0 + 1) / 1][Stage 25:>   (0 + 1) / 1][Stage 26:>   (0 + 1) / 1]  \r"
     ]
    },
    {
     "name": "stdout",
     "output_type": "stream",
     "text": [
      " 16%|█▌        | 8/50 [01:17<04:28,  6.39s/trial, best loss: 6.558839476860356]"
     ]
    },
    {
     "name": "stderr",
     "output_type": "stream",
     "text": [
      "                                                                                \r"
     ]
    },
    {
     "name": "stdout",
     "output_type": "stream",
     "text": [
      " 18%|█▊        | 9/50 [01:21<03:51,  5.65s/trial, best loss: 6.558839476860356]"
     ]
    },
    {
     "name": "stderr",
     "output_type": "stream",
     "text": [
      "[Stage 25:>   (0 + 1) / 1][Stage 26:>   (0 + 1) / 1][Stage 32:>   (0 + 1) / 1]  \r"
     ]
    },
    {
     "name": "stdout",
     "output_type": "stream",
     "text": [
      " 20%|██        | 10/50 [01:22<02:48,  4.22s/trial, best loss: 6.558839476860356]"
     ]
    },
    {
     "name": "stderr",
     "output_type": "stream",
     "text": [
      "[Stage 25:>   (0 + 1) / 1][Stage 26:>   (0 + 1) / 1][Stage 33:>   (0 + 1) / 1]  \r"
     ]
    },
    {
     "name": "stdout",
     "output_type": "stream",
     "text": [
      " 22%|██▏       | 11/50 [01:28<03:06,  4.77s/trial, best loss: 6.558839476860356]"
     ]
    },
    {
     "name": "stderr",
     "output_type": "stream",
     "text": [
      "                                                                                \r"
     ]
    },
    {
     "name": "stdout",
     "output_type": "stream",
     "text": [
      " 24%|██▍       | 12/50 [01:41<04:36,  7.28s/trial, best loss: 6.558839476860356]"
     ]
    },
    {
     "name": "stderr",
     "output_type": "stream",
     "text": [
      "                                                                                \r"
     ]
    },
    {
     "name": "stdout",
     "output_type": "stream",
     "text": [
      " 26%|██▌       | 13/50 [01:43<03:31,  5.71s/trial, best loss: 6.558839476860356]"
     ]
    },
    {
     "name": "stderr",
     "output_type": "stream",
     "text": [
      "                                                                                \r"
     ]
    },
    {
     "name": "stdout",
     "output_type": "stream",
     "text": [
      " 28%|██▊       | 14/50 [01:52<04:01,  6.72s/trial, best loss: 6.558839476860356]"
     ]
    },
    {
     "name": "stderr",
     "output_type": "stream",
     "text": [
      "[Stage 34:>   (0 + 1) / 1][Stage 35:>   (0 + 1) / 1][Stage 36:>   (0 + 1) / 1]\r"
     ]
    },
    {
     "name": "stdout",
     "output_type": "stream",
     "text": [
      " 30%|███       | 15/50 [01:54<03:05,  5.31s/trial, best loss: 6.558839476860356]"
     ]
    },
    {
     "name": "stderr",
     "output_type": "stream",
     "text": [
      "                                                                                \r"
     ]
    },
    {
     "name": "stdout",
     "output_type": "stream",
     "text": [
      " 32%|███▏      | 16/50 [01:56<02:27,  4.33s/trial, best loss: 6.558839476860356]"
     ]
    },
    {
     "name": "stderr",
     "output_type": "stream",
     "text": [
      "[Stage 34:>   (0 + 1) / 1][Stage 36:>   (0 + 1) / 1][Stage 37:>   (0 + 1) / 1]  \r"
     ]
    },
    {
     "name": "stdout",
     "output_type": "stream",
     "text": [
      " 36%|███▌      | 18/50 [02:11<03:09,  5.93s/trial, best loss: 6.558839476860356]"
     ]
    },
    {
     "name": "stderr",
     "output_type": "stream",
     "text": [
      "                                                                                \r"
     ]
    },
    {
     "name": "stdout",
     "output_type": "stream",
     "text": [
      " 38%|███▊      | 19/50 [02:17<03:04,  5.96s/trial, best loss: 6.558839476860356]"
     ]
    },
    {
     "name": "stderr",
     "output_type": "stream",
     "text": [
      "[Stage 37:>   (0 + 1) / 1][Stage 40:>   (0 + 1) / 1][Stage 41:>   (0 + 1) / 1]  \r"
     ]
    },
    {
     "name": "stdout",
     "output_type": "stream",
     "text": [
      " 40%|████      | 20/50 [02:39<05:24, 10.80s/trial, best loss: 6.558839476860356]"
     ]
    },
    {
     "name": "stderr",
     "output_type": "stream",
     "text": [
      "                                                                                \r"
     ]
    },
    {
     "name": "stdout",
     "output_type": "stream",
     "text": [
      " 42%|████▏     | 21/50 [02:44<04:23,  9.08s/trial, best loss: 6.558839476860356]"
     ]
    },
    {
     "name": "stderr",
     "output_type": "stream",
     "text": [
      "                                                                                \r"
     ]
    },
    {
     "name": "stdout",
     "output_type": "stream",
     "text": [
      " 44%|████▍     | 22/50 [02:45<03:06,  6.67s/trial, best loss: 6.549804842237033]"
     ]
    },
    {
     "name": "stderr",
     "output_type": "stream",
     "text": [
      "[Stage 40:>   (0 + 1) / 1][Stage 41:>   (0 + 1) / 1][Stage 43:>   (0 + 1) / 1]  \r"
     ]
    },
    {
     "name": "stdout",
     "output_type": "stream",
     "text": [
      " 46%|████▌     | 23/50 [02:50<02:46,  6.18s/trial, best loss: 6.549804842237033]"
     ]
    },
    {
     "name": "stderr",
     "output_type": "stream",
     "text": [
      "                                                                                \r"
     ]
    },
    {
     "name": "stdout",
     "output_type": "stream",
     "text": [
      " 50%|█████     | 25/50 [03:22<04:22, 10.51s/trial, best loss: 6.549804842237033]"
     ]
    },
    {
     "name": "stderr",
     "output_type": "stream",
     "text": [
      "                                                                                \r"
     ]
    },
    {
     "name": "stdout",
     "output_type": "stream",
     "text": [
      " 54%|█████▍    | 27/50 [03:27<02:48,  7.35s/trial, best loss: 6.549804842237033]"
     ]
    },
    {
     "name": "stderr",
     "output_type": "stream",
     "text": [
      "                                                                                \r"
     ]
    },
    {
     "name": "stdout",
     "output_type": "stream",
     "text": [
      " 56%|█████▌    | 28/50 [03:29<02:15,  6.17s/trial, best loss: 6.549804842237033]"
     ]
    },
    {
     "name": "stderr",
     "output_type": "stream",
     "text": [
      "[Stage 40:>   (0 + 1) / 1][Stage 46:>   (0 + 1) / 1][Stage 50:>   (0 + 1) / 1]\r"
     ]
    },
    {
     "name": "stdout",
     "output_type": "stream",
     "text": [
      " 58%|█████▊    | 29/50 [03:38<02:24,  6.88s/trial, best loss: 6.549804842237033]"
     ]
    },
    {
     "name": "stderr",
     "output_type": "stream",
     "text": [
      "[Stage 46:>   (0 + 1) / 1][Stage 50:>   (0 + 1) / 1][Stage 51:>   (0 + 1) / 1]  \r"
     ]
    },
    {
     "name": "stdout",
     "output_type": "stream",
     "text": [
      " 60%|██████    | 30/50 [03:45<02:18,  6.93s/trial, best loss: 6.549804842237033]"
     ]
    },
    {
     "name": "stderr",
     "output_type": "stream",
     "text": [
      "                                                                                \r"
     ]
    },
    {
     "name": "stdout",
     "output_type": "stream",
     "text": [
      " 62%|██████▏   | 31/50 [03:51<02:07,  6.70s/trial, best loss: 6.549804842237033]"
     ]
    },
    {
     "name": "stderr",
     "output_type": "stream",
     "text": [
      "[Stage 51:>   (0 + 1) / 1][Stage 53:>   (0 + 1) / 1][Stage 54:>   (0 + 1) / 1]  \r"
     ]
    },
    {
     "name": "stdout",
     "output_type": "stream",
     "text": [
      " 64%|██████▍   | 32/50 [04:14<03:22, 11.23s/trial, best loss: 6.549614107984208]"
     ]
    },
    {
     "name": "stderr",
     "output_type": "stream",
     "text": [
      "                                                                                \r"
     ]
    },
    {
     "name": "stdout",
     "output_type": "stream",
     "text": [
      " 66%|██████▌   | 33/50 [04:23<03:00, 10.62s/trial, best loss: 6.549614107984208]"
     ]
    },
    {
     "name": "stderr",
     "output_type": "stream",
     "text": [
      "                                                                                \r"
     ]
    },
    {
     "name": "stdout",
     "output_type": "stream",
     "text": [
      " 68%|██████▊   | 34/50 [04:25<02:10,  8.16s/trial, best loss: 6.549614107984208]"
     ]
    },
    {
     "name": "stderr",
     "output_type": "stream",
     "text": [
      "                                                                                \r"
     ]
    },
    {
     "name": "stdout",
     "output_type": "stream",
     "text": [
      " 70%|███████   | 35/50 [04:43<02:45, 11.06s/trial, best loss: 6.549614107984208]"
     ]
    },
    {
     "name": "stderr",
     "output_type": "stream",
     "text": [
      "                                                                                \r"
     ]
    },
    {
     "name": "stdout",
     "output_type": "stream",
     "text": [
      " 72%|███████▏  | 36/50 [04:48<02:10,  9.30s/trial, best loss: 6.549614107984208]"
     ]
    },
    {
     "name": "stderr",
     "output_type": "stream",
     "text": [
      "[Stage 53:>   (0 + 1) / 1][Stage 55:>   (0 + 1) / 1][Stage 56:>   (0 + 1) / 1]  \r"
     ]
    },
    {
     "name": "stdout",
     "output_type": "stream",
     "text": [
      " 76%|███████▌  | 38/50 [05:04<01:44,  8.73s/trial, best loss: 6.549614107984208]"
     ]
    },
    {
     "name": "stderr",
     "output_type": "stream",
     "text": [
      "                                                                                \r"
     ]
    },
    {
     "name": "stdout",
     "output_type": "stream",
     "text": [
      " 78%|███████▊  | 39/50 [05:06<01:15,  6.84s/trial, best loss: 6.549614107984208]"
     ]
    },
    {
     "name": "stderr",
     "output_type": "stream",
     "text": [
      "                                                                                \r"
     ]
    },
    {
     "name": "stdout",
     "output_type": "stream",
     "text": [
      " 82%|████████▏ | 41/50 [05:19<01:00,  6.73s/trial, best loss: 6.549614107984208]"
     ]
    },
    {
     "name": "stderr",
     "output_type": "stream",
     "text": [
      "                                                                                \r"
     ]
    },
    {
     "name": "stdout",
     "output_type": "stream",
     "text": [
      " 84%|████████▍ | 42/50 [05:37<01:14,  9.33s/trial, best loss: 6.549614107984208]"
     ]
    },
    {
     "name": "stderr",
     "output_type": "stream",
     "text": [
      "[Stage 60:>   (0 + 1) / 1][Stage 62:>   (0 + 1) / 1][Stage 63:>   (0 + 1) / 1]  \r"
     ]
    },
    {
     "name": "stdout",
     "output_type": "stream",
     "text": [
      " 86%|████████▌ | 43/50 [05:39<00:52,  7.53s/trial, best loss: 6.549614107984208]"
     ]
    },
    {
     "name": "stderr",
     "output_type": "stream",
     "text": [
      "                                                                                \r"
     ]
    },
    {
     "name": "stdout",
     "output_type": "stream",
     "text": [
      " 88%|████████▊ | 44/50 [05:52<00:53,  8.96s/trial, best loss: 6.549614107984208]"
     ]
    },
    {
     "name": "stderr",
     "output_type": "stream",
     "text": [
      "[Stage 60:>   (0 + 1) / 1][Stage 62:>   (0 + 1) / 1][Stage 63:>   (0 + 1) / 1]\r"
     ]
    },
    {
     "name": "stdout",
     "output_type": "stream",
     "text": [
      " 90%|█████████ | 45/50 [05:53<00:34,  6.81s/trial, best loss: 6.549614107984208]"
     ]
    },
    {
     "name": "stderr",
     "output_type": "stream",
     "text": [
      "                                                                                \r"
     ]
    },
    {
     "name": "stdout",
     "output_type": "stream",
     "text": [
      " 92%|█████████▏| 46/50 [06:02<00:29,  7.43s/trial, best loss: 6.549614107984208]"
     ]
    },
    {
     "name": "stderr",
     "output_type": "stream",
     "text": [
      "[Stage 62:>   (0 + 1) / 1][Stage 68:>   (0 + 1) / 1][Stage 69:>   (0 + 1) / 1]  \r"
     ]
    },
    {
     "name": "stdout",
     "output_type": "stream",
     "text": [
      " 94%|█████████▍| 47/50 [06:08<00:21,  7.02s/trial, best loss: 6.549614107984208]"
     ]
    },
    {
     "name": "stderr",
     "output_type": "stream",
     "text": [
      "                                                                                \r"
     ]
    },
    {
     "name": "stdout",
     "output_type": "stream",
     "text": [
      " 96%|█████████▌| 48/50 [06:10<00:11,  5.57s/trial, best loss: 6.549614107984208]"
     ]
    },
    {
     "name": "stderr",
     "output_type": "stream",
     "text": [
      "[Stage 62:>                 (0 + 1) / 1][Stage 69:>                 (0 + 1) / 1]\r"
     ]
    },
    {
     "name": "stdout",
     "output_type": "stream",
     "text": [
      " 98%|█████████▊| 49/50 [06:12<00:04,  4.53s/trial, best loss: 6.549614107984208]"
     ]
    },
    {
     "name": "stderr",
     "output_type": "stream",
     "text": [
      "                                                                                \r"
     ]
    },
    {
     "name": "stdout",
     "output_type": "stream",
     "text": [
      "100%|██████████| 50/50 [06:32<00:00,  7.85s/trial, best loss: 6.548287153830625]\n"
     ]
    },
    {
     "name": "stderr",
     "output_type": "stream",
     "text": [
      "Total Trials: 50: 50 succeeded, 0 failed, 0 cancelled.\n"
     ]
    }
   ],
   "source": [
    "METRIC = \"test_rmse\"\n",
    "PARALLELISM = 8\n",
    "search_space = {\n",
    "        'max_depth': scope.int(hp.quniform('max_depth', 1, 20, 1)),\n",
    "        'n_estimators': scope.int(hp.quniform('n_estimators', 10, 50, 1)),\n",
    "        'min_samples_split': scope.int(hp.quniform('min_samples_split', 2, 10, 1)),\n",
    "        'min_samples_leaf': scope.int(hp.quniform('min_samples_leaf', 1, 4, 1)),\n",
    "        'random_state': 42\n",
    "}\n",
    "\n",
    "trials = SparkTrials(parallelism=PARALLELISM)\n",
    "train_objective = objective(\n",
    "        X_train, y_train, X_valid, y_valid, X_test, y_test, METRIC)\n",
    "rstate = np.random.default_rng(42)  # for reproducible results\n",
    "with mlflow.start_run() as run:\n",
    "        fmin(\n",
    "                fn=train_objective,\n",
    "                space=search_space,\n",
    "                algo=tpe.suggest,\n",
    "                max_evals=50,\n",
    "                trials=trials,\n",
    "                rstate=rstate\n",
    "        )\n",
    "        ##log_best(run, METRIC)\n",
    "        search_run_id = run.info.run_id\n",
    "        experiment_id = run.info.experiment_id\n"
   ]
  }
 ],
 "metadata": {
  "interpreter": {
   "hash": "5a1e437193a2402c0692e29c42aa94d26d2b23bd591617315d393c7d805daf7d"
  },
  "kernelspec": {
   "display_name": "Python 3.9.9 64-bit ('mlops-env')",
   "language": "python",
   "name": "python3"
  },
  "language_info": {
   "codemirror_mode": {
    "name": "ipython",
    "version": 3
   },
   "file_extension": ".py",
   "mimetype": "text/x-python",
   "name": "python",
   "nbconvert_exporter": "python",
   "pygments_lexer": "ipython3",
   "version": "3.9.9"
  },
  "orig_nbformat": 4
 },
 "nbformat": 4,
 "nbformat_minor": 2
}
