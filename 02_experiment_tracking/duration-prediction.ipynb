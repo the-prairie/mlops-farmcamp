{
 "cells": [
  {
   "cell_type": "markdown",
   "metadata": {},
   "source": []
  },
  {
   "cell_type": "markdown",
   "metadata": {},
   "source": [
    "#### *Goal*\n",
    "Build model to predict taxi trip time.\n",
    "We will be using NYC For Hire Taxi trip records. \n",
    "\n",
    "[Data can be found here](https://www1.nyc.gov/site/tlc/about/tlc-trip-record-data.page)"
   ]
  },
  {
   "cell_type": "code",
   "execution_count": 2,
   "metadata": {},
   "outputs": [],
   "source": [
    "import pandas as pd\n",
    "import numpy as np\n",
    "\n",
    "import seaborn as sns\n",
    "import matplotlib.pyplot as plt\n",
    "\n",
    "from sklearn.feature_extraction import DictVectorizer\n",
    "from sklearn.linear_model import LinearRegression, Lasso, Ridge\n",
    "from sklearn.metrics import mean_squared_error\n",
    "import xgboost\n",
    "\n",
    "pd.set_option(\"display.precision\", 3)\n",
    "pd.set_option('display.float_format', lambda x: '%.3f' % x)"
   ]
  },
  {
   "cell_type": "code",
   "execution_count": 3,
   "metadata": {},
   "outputs": [
    {
     "data": {
      "text/plain": [
       "<Experiment: artifact_location='./mlruns/1', experiment_id='1', lifecycle_stage='active', name='nyc-taxi-trips', tags={}>"
      ]
     },
     "execution_count": 3,
     "metadata": {},
     "output_type": "execute_result"
    }
   ],
   "source": [
    "import mlflow\n",
    "\n",
    "mlflow.set_tracking_uri(\"sqlite:///mlflow.db\")\n",
    "mlflow.set_experiment(\"nyc-taxi-trips\")"
   ]
  },
  {
   "cell_type": "code",
   "execution_count": 4,
   "metadata": {},
   "outputs": [],
   "source": [
    "sns.set_style(\"white\")"
   ]
  },
  {
   "cell_type": "code",
   "execution_count": 9,
   "metadata": {},
   "outputs": [],
   "source": [
    "columns=[\n",
    "'hvfhs_license_num',\n",
    "'pickup_datetime',\n",
    "'dropoff_datetime', \n",
    "'PULocationID', \n",
    "'DOLocationID', \n",
    "'trip_miles',\n",
    "'trip_time', \n",
    "'tips']"
   ]
  },
  {
   "cell_type": "code",
   "execution_count": 20,
   "metadata": {},
   "outputs": [],
   "source": [
    "training_data = pd.read_parquet(\n",
    "    \"data/fhvhv_tripdata_2021-01.parquet\",\n",
    "    engine=\"pyarrow\",\n",
    "    columns=columns)"
   ]
  },
  {
   "cell_type": "code",
   "execution_count": 11,
   "metadata": {},
   "outputs": [],
   "source": [
    "testing_data = pd.read_parquet(\n",
    "    \"data/fhvhv_tripdata_2021-01.parquet\",\n",
    "    engine=\"pyarrow\",\n",
    "    columns=columns)"
   ]
  },
  {
   "cell_type": "code",
   "execution_count": 26,
   "metadata": {},
   "outputs": [],
   "source": [
    "def prep_taxi_data(df):\n",
    "    return (df\n",
    "            .assign(\n",
    "                trip_time = df[\"trip_time\"]/60,\n",
    "                **{c:lambda df_, c=c:pd.to_datetime(df_[c], unit=\"ns\", errors=\"coerce\") for c in [\"pickup_datetime\",\"dropoff_datetime\"]},\n",
    "                day_of_week = lambda df_: df_[\"pickup_datetime\"].dt.day_name(),\n",
    "                hour_of_day = lambda df_: df_[\"pickup_datetime\"].dt.hour,\n",
    "                hour_of_day_sin = lambda df_: np.sin(df_[\"hour_of_day\"]*(2*np.pi/24))\n",
    "                hour_of_day_cos = lambda df_: np.cos(df_[\"hour_of_day\"]*(2*np.pi/24))\n",
    "                **{c:lambda df_, c=c:df_[c].astype(\"category\") for c in [\"PULocationID\",\"DOLocationID\",\"hvfhs_license_num\",\"hour_of_day\"]}\n",
    "            \n",
    "                \n",
    "            )\n",
    "          \n",
    "           \n",
    "\n",
    "    )"
   ]
  },
  {
   "cell_type": "code",
   "execution_count": 27,
   "metadata": {},
   "outputs": [],
   "source": [
    "training_data = prep_taxi_data(training_data)"
   ]
  },
  {
   "cell_type": "code",
   "execution_count": 28,
   "metadata": {},
   "outputs": [
    {
     "data": {
      "text/html": [
       "<div>\n",
       "<style scoped>\n",
       "    .dataframe tbody tr th:only-of-type {\n",
       "        vertical-align: middle;\n",
       "    }\n",
       "\n",
       "    .dataframe tbody tr th {\n",
       "        vertical-align: top;\n",
       "    }\n",
       "\n",
       "    .dataframe thead th {\n",
       "        text-align: right;\n",
       "    }\n",
       "</style>\n",
       "<table border=\"1\" class=\"dataframe\">\n",
       "  <thead>\n",
       "    <tr style=\"text-align: right;\">\n",
       "      <th></th>\n",
       "      <th>hvfhs_license_num</th>\n",
       "      <th>pickup_datetime</th>\n",
       "      <th>dropoff_datetime</th>\n",
       "      <th>PULocationID</th>\n",
       "      <th>DOLocationID</th>\n",
       "      <th>trip_miles</th>\n",
       "      <th>trip_time</th>\n",
       "      <th>tips</th>\n",
       "      <th>day_of_week</th>\n",
       "      <th>hour_of_day</th>\n",
       "      <th>hour_of_day_sin</th>\n",
       "    </tr>\n",
       "  </thead>\n",
       "  <tbody>\n",
       "    <tr>\n",
       "      <th>0</th>\n",
       "      <td>HV0003</td>\n",
       "      <td>2021-01-01 00:33:44</td>\n",
       "      <td>2021-01-01 00:49:07</td>\n",
       "      <td>230</td>\n",
       "      <td>166</td>\n",
       "      <td>5.260</td>\n",
       "      <td>15.383</td>\n",
       "      <td>0.000</td>\n",
       "      <td>Friday</td>\n",
       "      <td>0</td>\n",
       "      <td>0.000</td>\n",
       "    </tr>\n",
       "    <tr>\n",
       "      <th>1</th>\n",
       "      <td>HV0003</td>\n",
       "      <td>2021-01-01 00:55:19</td>\n",
       "      <td>2021-01-01 01:18:21</td>\n",
       "      <td>152</td>\n",
       "      <td>167</td>\n",
       "      <td>3.650</td>\n",
       "      <td>23.033</td>\n",
       "      <td>0.000</td>\n",
       "      <td>Friday</td>\n",
       "      <td>0</td>\n",
       "      <td>0.000</td>\n",
       "    </tr>\n",
       "    <tr>\n",
       "      <th>2</th>\n",
       "      <td>HV0003</td>\n",
       "      <td>2021-01-01 00:23:56</td>\n",
       "      <td>2021-01-01 00:38:05</td>\n",
       "      <td>233</td>\n",
       "      <td>142</td>\n",
       "      <td>3.510</td>\n",
       "      <td>14.150</td>\n",
       "      <td>0.940</td>\n",
       "      <td>Friday</td>\n",
       "      <td>0</td>\n",
       "      <td>0.000</td>\n",
       "    </tr>\n",
       "    <tr>\n",
       "      <th>3</th>\n",
       "      <td>HV0003</td>\n",
       "      <td>2021-01-01 00:42:51</td>\n",
       "      <td>2021-01-01 00:45:50</td>\n",
       "      <td>142</td>\n",
       "      <td>143</td>\n",
       "      <td>0.740</td>\n",
       "      <td>2.983</td>\n",
       "      <td>0.000</td>\n",
       "      <td>Friday</td>\n",
       "      <td>0</td>\n",
       "      <td>0.000</td>\n",
       "    </tr>\n",
       "    <tr>\n",
       "      <th>4</th>\n",
       "      <td>HV0003</td>\n",
       "      <td>2021-01-01 00:48:14</td>\n",
       "      <td>2021-01-01 01:08:42</td>\n",
       "      <td>143</td>\n",
       "      <td>78</td>\n",
       "      <td>9.200</td>\n",
       "      <td>20.467</td>\n",
       "      <td>0.000</td>\n",
       "      <td>Friday</td>\n",
       "      <td>0</td>\n",
       "      <td>0.000</td>\n",
       "    </tr>\n",
       "  </tbody>\n",
       "</table>\n",
       "</div>"
      ],
      "text/plain": [
       "  hvfhs_license_num     pickup_datetime    dropoff_datetime PULocationID  \\\n",
       "0            HV0003 2021-01-01 00:33:44 2021-01-01 00:49:07          230   \n",
       "1            HV0003 2021-01-01 00:55:19 2021-01-01 01:18:21          152   \n",
       "2            HV0003 2021-01-01 00:23:56 2021-01-01 00:38:05          233   \n",
       "3            HV0003 2021-01-01 00:42:51 2021-01-01 00:45:50          142   \n",
       "4            HV0003 2021-01-01 00:48:14 2021-01-01 01:08:42          143   \n",
       "\n",
       "  DOLocationID  trip_miles  trip_time  tips day_of_week  hour_of_day  \\\n",
       "0          166       5.260     15.383 0.000      Friday            0   \n",
       "1          167       3.650     23.033 0.000      Friday            0   \n",
       "2          142       3.510     14.150 0.940      Friday            0   \n",
       "3          143       0.740      2.983 0.000      Friday            0   \n",
       "4           78       9.200     20.467 0.000      Friday            0   \n",
       "\n",
       "   hour_of_day_sin  \n",
       "0            0.000  \n",
       "1            0.000  \n",
       "2            0.000  \n",
       "3            0.000  \n",
       "4            0.000  "
      ]
     },
     "execution_count": 28,
     "metadata": {},
     "output_type": "execute_result"
    }
   ],
   "source": [
    "training_data.head()"
   ]
  },
  {
   "cell_type": "code",
   "execution_count": 32,
   "metadata": {},
   "outputs": [],
   "source": [
    "data = pd.DataFrame()\n",
    "\n",
    "training_months = list(pd.period_range(start=\"2019-01-01\", end=\"2022-01-01\", freq=\"M\").astype(str))"
   ]
  },
  {
   "cell_type": "code",
   "execution_count": 37,
   "metadata": {},
   "outputs": [
    {
     "ename": "ArrowInvalid",
     "evalue": "Casting from timestamp[us] to timestamp[ns] would result in out of bounds timestamp: 33106123800000000",
     "output_type": "error",
     "traceback": [
      "\u001b[0;31m---------------------------------------------------------------------------\u001b[0m",
      "\u001b[0;31mArrowInvalid\u001b[0m                              Traceback (most recent call last)",
      "\u001b[1;32m/home/partygirlsroom314_gmail_com/mlops-farmcamp/02_experiment_tracking/duration-prediction.ipynb Cell 8'\u001b[0m in \u001b[0;36m<cell line: 1>\u001b[0;34m()\u001b[0m\n\u001b[1;32m      <a href='vscode-notebook-cell://ssh-remote%2Bmlops-farmcamp/home/partygirlsroom314_gmail_com/mlops-farmcamp/02_experiment_tracking/duration-prediction.ipynb#ch0000048vscode-remote?line=0'>1</a>\u001b[0m \u001b[39mfor\u001b[39;00m ym \u001b[39min\u001b[39;00m training_months:\n\u001b[0;32m----> <a href='vscode-notebook-cell://ssh-remote%2Bmlops-farmcamp/home/partygirlsroom314_gmail_com/mlops-farmcamp/02_experiment_tracking/duration-prediction.ipynb#ch0000048vscode-remote?line=1'>2</a>\u001b[0m    download_parquet_to_df(year_month\u001b[39m=\u001b[39;49mym, taxi_type\u001b[39m=\u001b[39;49m\u001b[39m\"\u001b[39;49m\u001b[39mfhv\u001b[39;49m\u001b[39m\"\u001b[39;49m)\n",
      "\u001b[1;32m/home/partygirlsroom314_gmail_com/mlops-farmcamp/02_experiment_tracking/duration-prediction.ipynb Cell 6'\u001b[0m in \u001b[0;36mdownload_parquet_to_df\u001b[0;34m(year_month, taxi_type, directory)\u001b[0m\n\u001b[1;32m     <a href='vscode-notebook-cell://ssh-remote%2Bmlops-farmcamp/home/partygirlsroom314_gmail_com/mlops-farmcamp/02_experiment_tracking/duration-prediction.ipynb#ch0000005vscode-remote?line=11'>12</a>\u001b[0m         \u001b[39mprint\u001b[39m(e, file\u001b[39m=\u001b[39msys\u001b[39m.\u001b[39mstderr)\n\u001b[1;32m     <a href='vscode-notebook-cell://ssh-remote%2Bmlops-farmcamp/home/partygirlsroom314_gmail_com/mlops-farmcamp/02_experiment_tracking/duration-prediction.ipynb#ch0000005vscode-remote?line=13'>14</a>\u001b[0m \u001b[39m# Save data to parquet file in local directory and return dataframe\u001b[39;00m\n\u001b[0;32m---> <a href='vscode-notebook-cell://ssh-remote%2Bmlops-farmcamp/home/partygirlsroom314_gmail_com/mlops-farmcamp/02_experiment_tracking/duration-prediction.ipynb#ch0000005vscode-remote?line=14'>15</a>\u001b[0m data \u001b[39m=\u001b[39m pd\u001b[39m.\u001b[39;49mread_parquet(io\u001b[39m.\u001b[39;49mBytesIO(result\u001b[39m.\u001b[39;49mcontent))\n\u001b[1;32m     <a href='vscode-notebook-cell://ssh-remote%2Bmlops-farmcamp/home/partygirlsroom314_gmail_com/mlops-farmcamp/02_experiment_tracking/duration-prediction.ipynb#ch0000005vscode-remote?line=16'>17</a>\u001b[0m data\u001b[39m.\u001b[39mto_parquet(\u001b[39mf\u001b[39m\u001b[39m\"\u001b[39m\u001b[39m{\u001b[39;00mdirectory\u001b[39m}\u001b[39;00m\u001b[39m{\u001b[39;00mfilename\u001b[39m}\u001b[39;00m\u001b[39m\"\u001b[39m)\n\u001b[1;32m     <a href='vscode-notebook-cell://ssh-remote%2Bmlops-farmcamp/home/partygirlsroom314_gmail_com/mlops-farmcamp/02_experiment_tracking/duration-prediction.ipynb#ch0000005vscode-remote?line=18'>19</a>\u001b[0m \u001b[39mreturn\u001b[39;00m data\n",
      "File \u001b[0;32m~/.pyenv/versions/3.9.8/envs/mlops-env/lib/python3.9/site-packages/pandas/io/parquet.py:493\u001b[0m, in \u001b[0;36mread_parquet\u001b[0;34m(path, engine, columns, storage_options, use_nullable_dtypes, **kwargs)\u001b[0m\n\u001b[1;32m    <a href='file:///home/partygirlsroom314_gmail_com/.pyenv/versions/3.9.8/envs/mlops-env/lib/python3.9/site-packages/pandas/io/parquet.py?line=445'>446</a>\u001b[0m \u001b[39m\"\"\"\u001b[39;00m\n\u001b[1;32m    <a href='file:///home/partygirlsroom314_gmail_com/.pyenv/versions/3.9.8/envs/mlops-env/lib/python3.9/site-packages/pandas/io/parquet.py?line=446'>447</a>\u001b[0m \u001b[39mLoad a parquet object from the file path, returning a DataFrame.\u001b[39;00m\n\u001b[1;32m    <a href='file:///home/partygirlsroom314_gmail_com/.pyenv/versions/3.9.8/envs/mlops-env/lib/python3.9/site-packages/pandas/io/parquet.py?line=447'>448</a>\u001b[0m \n\u001b[0;32m   (...)\u001b[0m\n\u001b[1;32m    <a href='file:///home/partygirlsroom314_gmail_com/.pyenv/versions/3.9.8/envs/mlops-env/lib/python3.9/site-packages/pandas/io/parquet.py?line=488'>489</a>\u001b[0m \u001b[39mDataFrame\u001b[39;00m\n\u001b[1;32m    <a href='file:///home/partygirlsroom314_gmail_com/.pyenv/versions/3.9.8/envs/mlops-env/lib/python3.9/site-packages/pandas/io/parquet.py?line=489'>490</a>\u001b[0m \u001b[39m\"\"\"\u001b[39;00m\n\u001b[1;32m    <a href='file:///home/partygirlsroom314_gmail_com/.pyenv/versions/3.9.8/envs/mlops-env/lib/python3.9/site-packages/pandas/io/parquet.py?line=490'>491</a>\u001b[0m impl \u001b[39m=\u001b[39m get_engine(engine)\n\u001b[0;32m--> <a href='file:///home/partygirlsroom314_gmail_com/.pyenv/versions/3.9.8/envs/mlops-env/lib/python3.9/site-packages/pandas/io/parquet.py?line=492'>493</a>\u001b[0m \u001b[39mreturn\u001b[39;00m impl\u001b[39m.\u001b[39;49mread(\n\u001b[1;32m    <a href='file:///home/partygirlsroom314_gmail_com/.pyenv/versions/3.9.8/envs/mlops-env/lib/python3.9/site-packages/pandas/io/parquet.py?line=493'>494</a>\u001b[0m     path,\n\u001b[1;32m    <a href='file:///home/partygirlsroom314_gmail_com/.pyenv/versions/3.9.8/envs/mlops-env/lib/python3.9/site-packages/pandas/io/parquet.py?line=494'>495</a>\u001b[0m     columns\u001b[39m=\u001b[39;49mcolumns,\n\u001b[1;32m    <a href='file:///home/partygirlsroom314_gmail_com/.pyenv/versions/3.9.8/envs/mlops-env/lib/python3.9/site-packages/pandas/io/parquet.py?line=495'>496</a>\u001b[0m     storage_options\u001b[39m=\u001b[39;49mstorage_options,\n\u001b[1;32m    <a href='file:///home/partygirlsroom314_gmail_com/.pyenv/versions/3.9.8/envs/mlops-env/lib/python3.9/site-packages/pandas/io/parquet.py?line=496'>497</a>\u001b[0m     use_nullable_dtypes\u001b[39m=\u001b[39;49muse_nullable_dtypes,\n\u001b[1;32m    <a href='file:///home/partygirlsroom314_gmail_com/.pyenv/versions/3.9.8/envs/mlops-env/lib/python3.9/site-packages/pandas/io/parquet.py?line=497'>498</a>\u001b[0m     \u001b[39m*\u001b[39;49m\u001b[39m*\u001b[39;49mkwargs,\n\u001b[1;32m    <a href='file:///home/partygirlsroom314_gmail_com/.pyenv/versions/3.9.8/envs/mlops-env/lib/python3.9/site-packages/pandas/io/parquet.py?line=498'>499</a>\u001b[0m )\n",
      "File \u001b[0;32m~/.pyenv/versions/3.9.8/envs/mlops-env/lib/python3.9/site-packages/pandas/io/parquet.py:240\u001b[0m, in \u001b[0;36mPyArrowImpl.read\u001b[0;34m(self, path, columns, use_nullable_dtypes, storage_options, **kwargs)\u001b[0m\n\u001b[1;32m    <a href='file:///home/partygirlsroom314_gmail_com/.pyenv/versions/3.9.8/envs/mlops-env/lib/python3.9/site-packages/pandas/io/parquet.py?line=232'>233</a>\u001b[0m path_or_handle, handles, kwargs[\u001b[39m\"\u001b[39m\u001b[39mfilesystem\u001b[39m\u001b[39m\"\u001b[39m] \u001b[39m=\u001b[39m _get_path_or_handle(\n\u001b[1;32m    <a href='file:///home/partygirlsroom314_gmail_com/.pyenv/versions/3.9.8/envs/mlops-env/lib/python3.9/site-packages/pandas/io/parquet.py?line=233'>234</a>\u001b[0m     path,\n\u001b[1;32m    <a href='file:///home/partygirlsroom314_gmail_com/.pyenv/versions/3.9.8/envs/mlops-env/lib/python3.9/site-packages/pandas/io/parquet.py?line=234'>235</a>\u001b[0m     kwargs\u001b[39m.\u001b[39mpop(\u001b[39m\"\u001b[39m\u001b[39mfilesystem\u001b[39m\u001b[39m\"\u001b[39m, \u001b[39mNone\u001b[39;00m),\n\u001b[1;32m    <a href='file:///home/partygirlsroom314_gmail_com/.pyenv/versions/3.9.8/envs/mlops-env/lib/python3.9/site-packages/pandas/io/parquet.py?line=235'>236</a>\u001b[0m     storage_options\u001b[39m=\u001b[39mstorage_options,\n\u001b[1;32m    <a href='file:///home/partygirlsroom314_gmail_com/.pyenv/versions/3.9.8/envs/mlops-env/lib/python3.9/site-packages/pandas/io/parquet.py?line=236'>237</a>\u001b[0m     mode\u001b[39m=\u001b[39m\u001b[39m\"\u001b[39m\u001b[39mrb\u001b[39m\u001b[39m\"\u001b[39m,\n\u001b[1;32m    <a href='file:///home/partygirlsroom314_gmail_com/.pyenv/versions/3.9.8/envs/mlops-env/lib/python3.9/site-packages/pandas/io/parquet.py?line=237'>238</a>\u001b[0m )\n\u001b[1;32m    <a href='file:///home/partygirlsroom314_gmail_com/.pyenv/versions/3.9.8/envs/mlops-env/lib/python3.9/site-packages/pandas/io/parquet.py?line=238'>239</a>\u001b[0m \u001b[39mtry\u001b[39;00m:\n\u001b[0;32m--> <a href='file:///home/partygirlsroom314_gmail_com/.pyenv/versions/3.9.8/envs/mlops-env/lib/python3.9/site-packages/pandas/io/parquet.py?line=239'>240</a>\u001b[0m     result \u001b[39m=\u001b[39m \u001b[39mself\u001b[39;49m\u001b[39m.\u001b[39;49mapi\u001b[39m.\u001b[39;49mparquet\u001b[39m.\u001b[39;49mread_table(\n\u001b[1;32m    <a href='file:///home/partygirlsroom314_gmail_com/.pyenv/versions/3.9.8/envs/mlops-env/lib/python3.9/site-packages/pandas/io/parquet.py?line=240'>241</a>\u001b[0m         path_or_handle, columns\u001b[39m=\u001b[39;49mcolumns, \u001b[39m*\u001b[39;49m\u001b[39m*\u001b[39;49mkwargs\n\u001b[1;32m    <a href='file:///home/partygirlsroom314_gmail_com/.pyenv/versions/3.9.8/envs/mlops-env/lib/python3.9/site-packages/pandas/io/parquet.py?line=241'>242</a>\u001b[0m     )\u001b[39m.\u001b[39;49mto_pandas(\u001b[39m*\u001b[39;49m\u001b[39m*\u001b[39;49mto_pandas_kwargs)\n\u001b[1;32m    <a href='file:///home/partygirlsroom314_gmail_com/.pyenv/versions/3.9.8/envs/mlops-env/lib/python3.9/site-packages/pandas/io/parquet.py?line=242'>243</a>\u001b[0m     \u001b[39mif\u001b[39;00m manager \u001b[39m==\u001b[39m \u001b[39m\"\u001b[39m\u001b[39marray\u001b[39m\u001b[39m\"\u001b[39m:\n\u001b[1;32m    <a href='file:///home/partygirlsroom314_gmail_com/.pyenv/versions/3.9.8/envs/mlops-env/lib/python3.9/site-packages/pandas/io/parquet.py?line=243'>244</a>\u001b[0m         result \u001b[39m=\u001b[39m result\u001b[39m.\u001b[39m_as_manager(\u001b[39m\"\u001b[39m\u001b[39marray\u001b[39m\u001b[39m\"\u001b[39m, copy\u001b[39m=\u001b[39m\u001b[39mFalse\u001b[39;00m)\n",
      "File \u001b[0;32m~/.pyenv/versions/3.9.8/envs/mlops-env/lib/python3.9/site-packages/pyarrow/array.pxi:822\u001b[0m, in \u001b[0;36mpyarrow.lib._PandasConvertible.to_pandas\u001b[0;34m()\u001b[0m\n",
      "File \u001b[0;32m~/.pyenv/versions/3.9.8/envs/mlops-env/lib/python3.9/site-packages/pyarrow/table.pxi:3889\u001b[0m, in \u001b[0;36mpyarrow.lib.Table._to_pandas\u001b[0;34m()\u001b[0m\n",
      "File \u001b[0;32m~/.pyenv/versions/3.9.8/envs/mlops-env/lib/python3.9/site-packages/pyarrow/pandas_compat.py:803\u001b[0m, in \u001b[0;36mtable_to_blockmanager\u001b[0;34m(options, table, categories, ignore_metadata, types_mapper)\u001b[0m\n\u001b[1;32m    <a href='file:///home/partygirlsroom314_gmail_com/.pyenv/versions/3.9.8/envs/mlops-env/lib/python3.9/site-packages/pyarrow/pandas_compat.py?line=800'>801</a>\u001b[0m _check_data_column_metadata_consistency(all_columns)\n\u001b[1;32m    <a href='file:///home/partygirlsroom314_gmail_com/.pyenv/versions/3.9.8/envs/mlops-env/lib/python3.9/site-packages/pyarrow/pandas_compat.py?line=801'>802</a>\u001b[0m columns \u001b[39m=\u001b[39m _deserialize_column_index(table, all_columns, column_indexes)\n\u001b[0;32m--> <a href='file:///home/partygirlsroom314_gmail_com/.pyenv/versions/3.9.8/envs/mlops-env/lib/python3.9/site-packages/pyarrow/pandas_compat.py?line=802'>803</a>\u001b[0m blocks \u001b[39m=\u001b[39m _table_to_blocks(options, table, categories, ext_columns_dtypes)\n\u001b[1;32m    <a href='file:///home/partygirlsroom314_gmail_com/.pyenv/versions/3.9.8/envs/mlops-env/lib/python3.9/site-packages/pyarrow/pandas_compat.py?line=804'>805</a>\u001b[0m axes \u001b[39m=\u001b[39m [columns, index]\n\u001b[1;32m    <a href='file:///home/partygirlsroom314_gmail_com/.pyenv/versions/3.9.8/envs/mlops-env/lib/python3.9/site-packages/pyarrow/pandas_compat.py?line=805'>806</a>\u001b[0m \u001b[39mreturn\u001b[39;00m BlockManager(blocks, axes)\n",
      "File \u001b[0;32m~/.pyenv/versions/3.9.8/envs/mlops-env/lib/python3.9/site-packages/pyarrow/pandas_compat.py:1153\u001b[0m, in \u001b[0;36m_table_to_blocks\u001b[0;34m(options, block_table, categories, extension_columns)\u001b[0m\n\u001b[1;32m   <a href='file:///home/partygirlsroom314_gmail_com/.pyenv/versions/3.9.8/envs/mlops-env/lib/python3.9/site-packages/pyarrow/pandas_compat.py?line=1147'>1148</a>\u001b[0m \u001b[39mdef\u001b[39;00m \u001b[39m_table_to_blocks\u001b[39m(options, block_table, categories, extension_columns):\n\u001b[1;32m   <a href='file:///home/partygirlsroom314_gmail_com/.pyenv/versions/3.9.8/envs/mlops-env/lib/python3.9/site-packages/pyarrow/pandas_compat.py?line=1148'>1149</a>\u001b[0m     \u001b[39m# Part of table_to_blockmanager\u001b[39;00m\n\u001b[1;32m   <a href='file:///home/partygirlsroom314_gmail_com/.pyenv/versions/3.9.8/envs/mlops-env/lib/python3.9/site-packages/pyarrow/pandas_compat.py?line=1149'>1150</a>\u001b[0m \n\u001b[1;32m   <a href='file:///home/partygirlsroom314_gmail_com/.pyenv/versions/3.9.8/envs/mlops-env/lib/python3.9/site-packages/pyarrow/pandas_compat.py?line=1150'>1151</a>\u001b[0m     \u001b[39m# Convert an arrow table to Block from the internal pandas API\u001b[39;00m\n\u001b[1;32m   <a href='file:///home/partygirlsroom314_gmail_com/.pyenv/versions/3.9.8/envs/mlops-env/lib/python3.9/site-packages/pyarrow/pandas_compat.py?line=1151'>1152</a>\u001b[0m     columns \u001b[39m=\u001b[39m block_table\u001b[39m.\u001b[39mcolumn_names\n\u001b[0;32m-> <a href='file:///home/partygirlsroom314_gmail_com/.pyenv/versions/3.9.8/envs/mlops-env/lib/python3.9/site-packages/pyarrow/pandas_compat.py?line=1152'>1153</a>\u001b[0m     result \u001b[39m=\u001b[39m pa\u001b[39m.\u001b[39;49mlib\u001b[39m.\u001b[39;49mtable_to_blocks(options, block_table, categories,\n\u001b[1;32m   <a href='file:///home/partygirlsroom314_gmail_com/.pyenv/versions/3.9.8/envs/mlops-env/lib/python3.9/site-packages/pyarrow/pandas_compat.py?line=1153'>1154</a>\u001b[0m                                     \u001b[39mlist\u001b[39;49m(extension_columns\u001b[39m.\u001b[39;49mkeys()))\n\u001b[1;32m   <a href='file:///home/partygirlsroom314_gmail_com/.pyenv/versions/3.9.8/envs/mlops-env/lib/python3.9/site-packages/pyarrow/pandas_compat.py?line=1154'>1155</a>\u001b[0m     \u001b[39mreturn\u001b[39;00m [_reconstruct_block(item, columns, extension_columns)\n\u001b[1;32m   <a href='file:///home/partygirlsroom314_gmail_com/.pyenv/versions/3.9.8/envs/mlops-env/lib/python3.9/site-packages/pyarrow/pandas_compat.py?line=1155'>1156</a>\u001b[0m             \u001b[39mfor\u001b[39;00m item \u001b[39min\u001b[39;00m result]\n",
      "File \u001b[0;32m~/.pyenv/versions/3.9.8/envs/mlops-env/lib/python3.9/site-packages/pyarrow/table.pxi:2602\u001b[0m, in \u001b[0;36mpyarrow.lib.table_to_blocks\u001b[0;34m()\u001b[0m\n",
      "File \u001b[0;32m~/.pyenv/versions/3.9.8/envs/mlops-env/lib/python3.9/site-packages/pyarrow/error.pxi:100\u001b[0m, in \u001b[0;36mpyarrow.lib.check_status\u001b[0;34m()\u001b[0m\n",
      "\u001b[0;31mArrowInvalid\u001b[0m: Casting from timestamp[us] to timestamp[ns] would result in out of bounds timestamp: 33106123800000000"
     ]
    }
   ],
   "source": [
    "for ym in training_months:\n",
    "   download_parquet_to_df(year_month=ym, taxi_type=\"fhv\")"
   ]
  },
  {
   "cell_type": "code",
   "execution_count": 6,
   "metadata": {},
   "outputs": [],
   "source": [
    "fhv_jan21 = download_parquet_to_df(year_month=\"2021-01\", taxi_type=\"fhv\")"
   ]
  },
  {
   "cell_type": "code",
   "execution_count": 7,
   "metadata": {},
   "outputs": [],
   "source": [
    "fhv_feb21 = download_parquet_to_df(year_month=\"2021-02\", taxi_type=\"fhv\")"
   ]
  },
  {
   "cell_type": "code",
   "execution_count": 19,
   "metadata": {},
   "outputs": [
    {
     "data": {
      "text/plain": [
       "0.14681813100611743"
      ]
     },
     "execution_count": 19,
     "metadata": {},
     "output_type": "execute_result"
    }
   ],
   "source": [
    "fhv_feb21[\"DOlocationID\"].isna().sum()/fhv_feb21.shape[0]"
   ]
  },
  {
   "cell_type": "markdown",
   "metadata": {},
   "source": [
    "*Calculate trip time which is our variable of interest*\n",
    "\n",
    "We will calculate as duration in minutes (min) based on the difference between pickup datetime and dropoff datetime"
   ]
  },
  {
   "cell_type": "code",
   "execution_count": 8,
   "metadata": {},
   "outputs": [],
   "source": [
    "def calculate_trip_duration(df, pickup_datetime, dropoff_datetime):\n",
    "    trip_duration = (\n",
    "        (df[dropoff_datetime] - df[pickup_datetime]) / pd.to_timedelta('1 min')\n",
    "    )\n",
    "    return trip_duration\n"
   ]
  },
  {
   "cell_type": "code",
   "execution_count": 28,
   "metadata": {},
   "outputs": [],
   "source": [
    "fhv_jan21[\"trip_duration\"] = calculate_trip_duration(fhv_jan21, \"pickup_datetime\", \"dropOff_datetime\")"
   ]
  },
  {
   "cell_type": "markdown",
   "metadata": {},
   "source": [
    "Check the distribution of trip times we just calculated"
   ]
  },
  {
   "cell_type": "code",
   "execution_count": 29,
   "metadata": {},
   "outputs": [
    {
     "data": {
      "text/html": [
       "<div>\n",
       "<style scoped>\n",
       "    .dataframe tbody tr th:only-of-type {\n",
       "        vertical-align: middle;\n",
       "    }\n",
       "\n",
       "    .dataframe tbody tr th {\n",
       "        vertical-align: top;\n",
       "    }\n",
       "\n",
       "    .dataframe thead th {\n",
       "        text-align: right;\n",
       "    }\n",
       "</style>\n",
       "<table border=\"1\" class=\"dataframe\">\n",
       "  <thead>\n",
       "    <tr style=\"text-align: right;\">\n",
       "      <th></th>\n",
       "      <th>index</th>\n",
       "      <th>trip_duration</th>\n",
       "    </tr>\n",
       "  </thead>\n",
       "  <tbody>\n",
       "    <tr>\n",
       "      <th>0</th>\n",
       "      <td>count</td>\n",
       "      <td>1154112.000</td>\n",
       "    </tr>\n",
       "    <tr>\n",
       "      <th>1</th>\n",
       "      <td>mean</td>\n",
       "      <td>19.167</td>\n",
       "    </tr>\n",
       "    <tr>\n",
       "      <th>2</th>\n",
       "      <td>std</td>\n",
       "      <td>398.692</td>\n",
       "    </tr>\n",
       "    <tr>\n",
       "      <th>3</th>\n",
       "      <td>min</td>\n",
       "      <td>0.017</td>\n",
       "    </tr>\n",
       "    <tr>\n",
       "      <th>4</th>\n",
       "      <td>50%</td>\n",
       "      <td>13.400</td>\n",
       "    </tr>\n",
       "    <tr>\n",
       "      <th>5</th>\n",
       "      <td>85%</td>\n",
       "      <td>29.483</td>\n",
       "    </tr>\n",
       "    <tr>\n",
       "      <th>6</th>\n",
       "      <td>90%</td>\n",
       "      <td>35.633</td>\n",
       "    </tr>\n",
       "    <tr>\n",
       "      <th>7</th>\n",
       "      <td>95%</td>\n",
       "      <td>47.250</td>\n",
       "    </tr>\n",
       "    <tr>\n",
       "      <th>8</th>\n",
       "      <td>98%</td>\n",
       "      <td>66.133</td>\n",
       "    </tr>\n",
       "    <tr>\n",
       "      <th>9</th>\n",
       "      <td>99%</td>\n",
       "      <td>90.300</td>\n",
       "    </tr>\n",
       "    <tr>\n",
       "      <th>10</th>\n",
       "      <td>max</td>\n",
       "      <td>423371.050</td>\n",
       "    </tr>\n",
       "  </tbody>\n",
       "</table>\n",
       "</div>"
      ],
      "text/plain": [
       "    index  trip_duration\n",
       "0   count    1154112.000\n",
       "1    mean         19.167\n",
       "2     std        398.692\n",
       "3     min          0.017\n",
       "4     50%         13.400\n",
       "5     85%         29.483\n",
       "6     90%         35.633\n",
       "7     95%         47.250\n",
       "8     98%         66.133\n",
       "9     99%         90.300\n",
       "10    max     423371.050"
      ]
     },
     "execution_count": 29,
     "metadata": {},
     "output_type": "execute_result"
    }
   ],
   "source": [
    "fhv_jan21[\"trip_duration\"].describe(percentiles=[0.5, 0.85, 0.9, 0.95,0.98, 0.99]).reset_index()"
   ]
  },
  {
   "cell_type": "markdown",
   "metadata": {},
   "source": [
    "Keep records within band of:\n",
    "- trip_duration >= 1 min \n",
    "- trip_duration <= 60 min"
   ]
  },
  {
   "cell_type": "code",
   "execution_count": 30,
   "metadata": {},
   "outputs": [],
   "source": [
    "fhv_jan21[\"valid_record_indicator\"] = np.where((fhv_jan21[\"trip_duration\"]>=1) & (fhv_jan21[\"trip_duration\"]<=60),1,0)"
   ]
  },
  {
   "cell_type": "code",
   "execution_count": 31,
   "metadata": {},
   "outputs": [
    {
     "data": {
      "text/plain": [
       "1    1109826\n",
       "0      44286\n",
       "Name: valid_record_indicator, dtype: int64"
      ]
     },
     "execution_count": 31,
     "metadata": {},
     "output_type": "execute_result"
    }
   ],
   "source": [
    "fhv_jan21[\"valid_record_indicator\"].value_counts()"
   ]
  },
  {
   "cell_type": "code",
   "execution_count": 32,
   "metadata": {},
   "outputs": [
    {
     "name": "stdout",
     "output_type": "stream",
     "text": [
      "We will drop 44286 records\n"
     ]
    }
   ],
   "source": [
    "print(f'We will drop {fhv_jan21[\"valid_record_indicator\"].value_counts()[0]} records')"
   ]
  },
  {
   "cell_type": "code",
   "execution_count": 33,
   "metadata": {},
   "outputs": [],
   "source": [
    "fhv_jan21_filtered = fhv_jan21.loc[fhv_jan21[\"valid_record_indicator\"]==1].reset_index(drop=True)"
   ]
  },
  {
   "cell_type": "code",
   "execution_count": 34,
   "metadata": {},
   "outputs": [
    {
     "data": {
      "text/plain": [
       "0.835"
      ]
     },
     "execution_count": 34,
     "metadata": {},
     "output_type": "execute_result"
    }
   ],
   "source": [
    "# Percentage of Pickup location ID missing\n",
    "(\n",
    "    fhv_jan21_filtered[\"PUlocationID\"]\n",
    "    .isna()\n",
    "    .sum()\n",
    "    /\n",
    "    fhv_jan21_filtered.shape[0]\n",
    ").round(3)"
   ]
  },
  {
   "cell_type": "code",
   "execution_count": 35,
   "metadata": {},
   "outputs": [
    {
     "data": {
      "text/plain": [
       "0.133"
      ]
     },
     "execution_count": 35,
     "metadata": {},
     "output_type": "execute_result"
    }
   ],
   "source": [
    "# Percentage of Dropoff location ID missing\n",
    "(\n",
    "    fhv_jan21_filtered[\"DOlocationID\"]\n",
    "    .isna()\n",
    "    .sum()\n",
    "    /\n",
    "    fhv_jan21_filtered.shape[0]\n",
    ").round(3)"
   ]
  },
  {
   "cell_type": "code",
   "execution_count": 36,
   "metadata": {},
   "outputs": [],
   "source": [
    "# Fill missing with -1\n",
    "fhv_jan21_filtered[\"PUlocationID\"] = fhv_jan21_filtered[\"PUlocationID\"].fillna(-1)\n",
    "fhv_jan21_filtered[\"DOlocationID\"] = fhv_jan21_filtered[\"DOlocationID\"].fillna(-1)"
   ]
  },
  {
   "cell_type": "code",
   "execution_count": 37,
   "metadata": {},
   "outputs": [],
   "source": [
    "categorical = [\"PUlocationID\",\"DOlocationID\"]"
   ]
  },
  {
   "cell_type": "code",
   "execution_count": 38,
   "metadata": {},
   "outputs": [],
   "source": [
    "fhv_jan21_filtered[categorical] = fhv_jan21_filtered[categorical].astype(str)"
   ]
  },
  {
   "cell_type": "code",
   "execution_count": 39,
   "metadata": {},
   "outputs": [],
   "source": [
    "train_dicts = fhv_jan21_filtered[categorical].to_dict(orient=\"records\")"
   ]
  },
  {
   "cell_type": "code",
   "execution_count": 40,
   "metadata": {},
   "outputs": [],
   "source": [
    "dv = DictVectorizer()\n",
    "X_train = dv.fit_transform(train_dicts)"
   ]
  },
  {
   "cell_type": "code",
   "execution_count": 41,
   "metadata": {},
   "outputs": [
    {
     "data": {
      "text/plain": [
       "<1109826x525 sparse matrix of type '<class 'numpy.float64'>'\n",
       "\twith 2219652 stored elements in Compressed Sparse Row format>"
      ]
     },
     "execution_count": 41,
     "metadata": {},
     "output_type": "execute_result"
    }
   ],
   "source": [
    "X_train"
   ]
  },
  {
   "cell_type": "code",
   "execution_count": 42,
   "metadata": {},
   "outputs": [],
   "source": [
    "target = \"trip_duration\"\n",
    "y_train = fhv_jan21_filtered[target].values"
   ]
  },
  {
   "cell_type": "code",
   "execution_count": 43,
   "metadata": {},
   "outputs": [
    {
     "name": "stdout",
     "output_type": "stream",
     "text": [
      "Our model is incorrect on average by 10.529 minutes\n"
     ]
    }
   ],
   "source": [
    "lr = LinearRegression()\n",
    "lr.fit(X_train, y_train)\n",
    "y_pred = lr.predict(X_train)\n",
    "\n",
    "rmse = mean_squared_error(y_train, y_pred, squared=False, )\n",
    "print(f\"Our model is incorrect on average by {round(rmse,3)} minutes\")"
   ]
  },
  {
   "cell_type": "code",
   "execution_count": null,
   "metadata": {},
   "outputs": [],
   "source": []
  },
  {
   "cell_type": "code",
   "execution_count": 44,
   "metadata": {},
   "outputs": [],
   "source": [
    "def prep_dataset(df, categorical, numerical, target):\n",
    "    print(f\"Original data has {df.shape[0]} records.\")\n",
    "\n",
    "    df[\"trip_duration\"] = calculate_trip_duration(df, \"pickup_datetime\", \"dropOff_datetime\")\n",
    "    df[\"PUlocationID\"] = df[\"PUlocationID\"].fillna(-1)\n",
    "    df[\"DOlocationID\"] = df[\"DOlocationID\"].fillna(-1)\n",
    "\n",
    "    df = df.loc[(df[\"trip_duration\"]>=1) & (df[\"trip_duration\"]<=60)].copy()\n",
    "\n",
    "    if categorical:\n",
    "        df[categorical] = df[categorical].astype(str)\n",
    "    if numerical:\n",
    "        df[numerical] = df[numerical].astype(float)\n",
    "\n",
    "    print(f\"Final data has {df.shape[0]} records.\")\n",
    "\n",
    "    return df\n"
   ]
  },
  {
   "cell_type": "code",
   "execution_count": 45,
   "metadata": {},
   "outputs": [],
   "source": [
    "categorical = [\"PUlocationID\",\"DOlocationID\"]\n",
    "numerical = None\n",
    "target=[\"trip_duration\"]"
   ]
  },
  {
   "cell_type": "code",
   "execution_count": 46,
   "metadata": {},
   "outputs": [
    {
     "name": "stdout",
     "output_type": "stream",
     "text": [
      "Original data has 1154112 records.\n",
      "Final data has 1109826 records.\n"
     ]
    }
   ],
   "source": [
    "df_train = prep_dataset(\n",
    "    df=download_parquet_to_df(year_month=\"2021-01\", taxi_type=\"fhv\"),\n",
    "    categorical= categorical,\n",
    "    numerical = numerical,\n",
    "    target= target)"
   ]
  },
  {
   "cell_type": "code",
   "execution_count": 47,
   "metadata": {},
   "outputs": [
    {
     "name": "stdout",
     "output_type": "stream",
     "text": [
      "Original data has 1037692 records.\n",
      "Final data has 990113 records.\n"
     ]
    }
   ],
   "source": [
    "df_val = prep_dataset(\n",
    "    df=download_parquet_to_df(year_month=\"2021-02\", taxi_type=\"fhv\"),\n",
    "    categorical= categorical,\n",
    "    numerical = numerical,\n",
    "    target= target)"
   ]
  },
  {
   "cell_type": "code",
   "execution_count": 48,
   "metadata": {},
   "outputs": [],
   "source": [
    "dv = DictVectorizer()\n",
    "\n",
    "train_dicts = df_train[categorical].to_dict(orient=\"records\")\n",
    "val_dicts = df_val[categorical].to_dict(orient=\"records\")\n",
    "\n",
    "\n",
    "X_train = dv.fit_transform(train_dicts)\n",
    "X_val = dv.transform(val_dicts)\n",
    "\n",
    "y_train = df_train[target].values\n",
    "y_val = df_val[target].values"
   ]
  },
  {
   "cell_type": "code",
   "execution_count": 49,
   "metadata": {},
   "outputs": [
    {
     "name": "stdout",
     "output_type": "stream",
     "text": [
      "Our model is incorrect on average by 11.014 minutes\n"
     ]
    }
   ],
   "source": [
    "lr = LinearRegression()\n",
    "lr.fit(X_train, y_train)\n",
    "\n",
    "y_pred = lr.predict(X_val)\n",
    "\n",
    "mse = mean_squared_error(y_val, y_pred, squared=False)\n",
    "print(f\"Our model is incorrect on average by {round(mse,3)} minutes\")"
   ]
  },
  {
   "cell_type": "code",
   "execution_count": 50,
   "metadata": {},
   "outputs": [
    {
     "data": {
      "image/png": "[encoded data removed]",
      "text/plain": [
       "<Figure size 720x720 with 1 Axes>"
      ]
     },
     "metadata": {
      "needs_background": "light"
     },
     "output_type": "display_data"
    }
   ],
   "source": [
    "\n",
    "data = {\"predicted\": y_pred.squeeze(), \"actual\": y_val.squeeze()}\n",
    "ax = sns.histplot(data, kde=True, alpha=0.6)\n",
    "ax.set(xlabel=\"Trip Duration (min)\")\n",
    "ax.figure.set_size_inches(10, 10)\n"
   ]
  },
  {
   "cell_type": "markdown",
   "metadata": {},
   "source": [
    "Lasso"
   ]
  },
  {
   "cell_type": "markdown",
   "metadata": {},
   "source": [
    "Getting more creative with our features we train our model with"
   ]
  },
  {
   "cell_type": "code",
   "execution_count": 51,
   "metadata": {},
   "outputs": [],
   "source": [
    "def prep_dataset(df, categorical, numerical, target):\n",
    "    print(f\"Original data has {df.shape[0]} records.\")\n",
    "\n",
    "    df[\"trip_duration\"] = calculate_trip_duration(df, \"pickup_datetime\", \"dropOff_datetime\")\n",
    "    df[\"PUlocationID\"] = df[\"PUlocationID\"].fillna(-1)\n",
    "    df[\"DOlocationID\"] = df[\"DOlocationID\"].fillna(-1)\n",
    "\n",
    "\n",
    "    df[\"trip_route\"] = df[\"PUlocationID\"].astype(str) + \"_\" + df[\"DOlocationID\"].astype(str)\n",
    "    df[\"day_of_week\"] = df[\"pickup_datetime\"].dt.day_name()\n",
    "    df[\"hour_of_day\"] = df[\"pickup_datetime\"].dt.hour\n",
    "\n",
    "    df = df.loc[(df[\"trip_duration\"]>=1) & (df[\"trip_duration\"]<=60)].copy()\n",
    "\n",
    "    if categorical:\n",
    "        df[categorical] = df[categorical].astype(str)\n",
    "    if numerical:\n",
    "        df[numerical] = df[numerical].astype(float)\n",
    "\n",
    "    print(f\"Final data has {df.shape[0]} records.\")\n",
    "\n",
    "    return df"
   ]
  },
  {
   "cell_type": "code",
   "execution_count": 52,
   "metadata": {},
   "outputs": [],
   "source": [
    "categorical = [\"PUlocationID\",\"DOlocationID\", \"trip_route\",\"hour_of_day\"]\n",
    "numerical = None\n",
    "target=[\"trip_duration\"]"
   ]
  },
  {
   "cell_type": "code",
   "execution_count": 53,
   "metadata": {},
   "outputs": [
    {
     "name": "stdout",
     "output_type": "stream",
     "text": [
      "Original data has 1154112 records.\n",
      "Final data has 1109826 records.\n"
     ]
    }
   ],
   "source": [
    "df_train = prep_dataset(\n",
    "    df=download_parquet_to_df(year_month=\"2021-01\", taxi_type=\"fhv\"),\n",
    "    categorical= categorical,\n",
    "    numerical = numerical,\n",
    "    target= target)"
   ]
  },
  {
   "cell_type": "code",
   "execution_count": 54,
   "metadata": {},
   "outputs": [
    {
     "name": "stdout",
     "output_type": "stream",
     "text": [
      "Original data has 1037692 records.\n",
      "Final data has 990113 records.\n"
     ]
    }
   ],
   "source": [
    "df_val= prep_dataset(\n",
    "    df=download_parquet_to_df(year_month=\"2021-02\", taxi_type=\"fhv\"),\n",
    "    categorical= categorical,\n",
    "    numerical = numerical,\n",
    "    target= target)"
   ]
  },
  {
   "cell_type": "code",
   "execution_count": 55,
   "metadata": {},
   "outputs": [],
   "source": [
    "dv = DictVectorizer()\n",
    "\n",
    "train_dicts = df_train[categorical].to_dict(orient=\"records\")\n",
    "val_dicts = df_val[categorical].to_dict(orient=\"records\")\n",
    "\n",
    "\n",
    "X_train = dv.fit_transform(train_dicts)\n",
    "X_val = dv.transform(val_dicts)\n",
    "\n",
    "y_train = df_train[target].values\n",
    "y_val = df_val[target].values"
   ]
  },
  {
   "cell_type": "code",
   "execution_count": 56,
   "metadata": {},
   "outputs": [
    {
     "name": "stdout",
     "output_type": "stream",
     "text": [
      "Our model is incorrect on average by 10.504 minutes\n"
     ]
    }
   ],
   "source": [
    "lr = LinearRegression()\n",
    "lr.fit(X_train, y_train)\n",
    "\n",
    "y_pred = lr.predict(X_val)\n",
    "\n",
    "mse = mean_squared_error(y_val, y_pred, squared=False)\n",
    "print(f\"Our model is incorrect on average by {round(mse,3)} minutes\")"
   ]
  },
  {
   "cell_type": "code",
   "execution_count": 57,
   "metadata": {},
   "outputs": [
    {
     "data": {
      "image/png": "[encoded data removed]",
      "text/plain": [
       "<Figure size 432x432 with 1 Axes>"
      ]
     },
     "metadata": {
      "needs_background": "light"
     },
     "output_type": "display_data"
    }
   ],
   "source": [
    "data = {\"predicted\": y_pred.squeeze(), \"actual\": y_val.squeeze()}\n",
    "ax = sns.histplot(data, kde=True, alpha=0.5)\n",
    "ax.set(xlabel=\"Trip Duration (min)\")\n",
    "ax.figure.set_size_inches(6, 6)"
   ]
  },
  {
   "cell_type": "code",
   "execution_count": null,
   "metadata": {},
   "outputs": [],
   "source": []
  }
 ],
 "metadata": {
  "interpreter": {
   "hash": "c7552cb5b7603b512ce2a428478209989dd34402a05c0ce38ae0535b223fd99c"
  },
  "kernelspec": {
   "display_name": "Python 3 (ipykernel)",
   "language": "python",
   "name": "python3"
  },
  "language_info": {
   "codemirror_mode": {
    "name": "ipython",
    "version": 3
   },
   "file_extension": ".py",
   "mimetype": "text/x-python",
   "name": "python",
   "nbconvert_exporter": "python",
   "pygments_lexer": "ipython3",
   "version": "3.9.8"
  }
 },
 "nbformat": 4,
 "nbformat_minor": 2
}
