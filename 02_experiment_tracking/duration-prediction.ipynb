{
 "cells": [
  {
   "cell_type": "markdown",
   "metadata": {},
   "source": []
  },
  {
   "cell_type": "markdown",
   "metadata": {},
   "source": [
    "#### *Goal*\n",
    "Build model to predict taxi trip time.\n",
    "We will be using NYC For Hire Taxi trip records. \n",
    "\n",
    "[Data can be found here](https://www1.nyc.gov/site/tlc/about/tlc-trip-record-data.page)"
   ]
  },
  {
   "cell_type": "code",
   "execution_count": 1,
   "metadata": {},
   "outputs": [],
   "source": [
    "import pandas as pd\n",
    "import numpy as np\n",
    "\n",
    "import seaborn as sns\n",
    "import matplotlib.pyplot as plt\n",
    "\n",
    "from sklearn.feature_extraction import DictVectorizer\n",
    "from sklearn.linear_model import LinearRegression, Lasso, Ridge\n",
    "from sklearn.metrics import mean_squared_error\n",
    "import xgboost as xgb\n",
    "\n",
    "from typing import List, Dict, Optional\n",
    "\n",
    "from utils.download_parquet import download_parquet\n",
    "import os\n",
    "import pathlib\n",
    "import glob\n",
    "\n",
    "pd.set_option(\"display.precision\", 3)\n",
    "pd.set_option('display.float_format', lambda x: '%.3f' % x)"
   ]
  },
  {
   "cell_type": "code",
   "execution_count": 2,
   "metadata": {},
   "outputs": [
    {
     "data": {
      "text/plain": [
       "<Experiment: artifact_location='./mlruns/1', experiment_id='1', lifecycle_stage='active', name='nyc-taxi-trips', tags={}>"
      ]
     },
     "execution_count": 2,
     "metadata": {},
     "output_type": "execute_result"
    }
   ],
   "source": [
    "import mlflow\n",
    "\n",
    "mlflow.set_tracking_uri(\"sqlite:///mlflow.db\")\n",
    "mlflow.set_experiment(\"nyc-taxi-trips\")"
   ]
  },
  {
   "cell_type": "code",
   "execution_count": 3,
   "metadata": {},
   "outputs": [],
   "source": [
    "sns.set_style(\"white\")"
   ]
  },
  {
   "cell_type": "code",
   "execution_count": 4,
   "metadata": {},
   "outputs": [],
   "source": [
    "fhvhv_columns=[\n",
    "'hvfhs_license_num',\n",
    "'pickup_datetime',\n",
    "'dropoff_datetime', \n",
    "'PULocationID', \n",
    "'DOLocationID', \n",
    "'trip_miles',\n",
    "'trip_time', \n",
    "'tips']\n",
    "\n",
    "green_columns = [\n",
    "    'VendorID', \n",
    "    'lpep_pickup_datetime',\n",
    "    'lpep_dropoff_datetime',\n",
    "    'PULocationID', \n",
    "    'DOLocationID',\n",
    "    'trip_distance',\n",
    "    'trip_type']"
   ]
  },
  {
   "cell_type": "code",
   "execution_count": 12,
   "metadata": {},
   "outputs": [],
   "source": [
    "months = list(pd.period_range(start=\"2019-01-01\", end=\"2019-12-01\", freq=\"M\").astype(str))"
   ]
  },
  {
   "cell_type": "code",
   "execution_count": 15,
   "metadata": {},
   "outputs": [],
   "source": [
    "def download_data(months: List, taxi_type: str, directory: str) -> None:\n",
    "    print(f\"Downloading {taxi_type} trip data from {months[0]} to {months[-1]}\")\n",
    "    for ym in months:\n",
    "        download_parquet(\n",
    "            year_month=ym, \n",
    "            taxi_type=\"green\", \n",
    "            directory=\"data\")\n",
    "    print(\"Done!\")"
   ]
  },
  {
   "cell_type": "code",
   "execution_count": 16,
   "metadata": {},
   "outputs": [],
   "source": [
    "taxi_type = \"green\"\n",
    "\n",
    "training_months = list(pd.period_range(\n",
    "    start=\"2019-01-01\", \n",
    "    end=\"2019-12-01\", \n",
    "    freq=\"M\").astype(str))\n",
    "\n",
    "validation_months = list(pd.period_range(\n",
    "    start=\"2021-01-01\", \n",
    "    end=\"2021-12-01\", \n",
    "    freq=\"M\").astype(str))\n",
    "\n",
    "testing_months = list(pd.period_range(\n",
    "    start=\"2022-01-01\", \n",
    "    end=\"2022-03-01\", \n",
    "    freq=\"M\").astype(str))"
   ]
  },
  {
   "cell_type": "code",
   "execution_count": 17,
   "metadata": {},
   "outputs": [],
   "source": [
    "path = pathlib.Path.cwd() / \"data\" / f\"{taxi_type}\""
   ]
  },
  {
   "cell_type": "code",
   "execution_count": 18,
   "metadata": {},
   "outputs": [],
   "source": [
    "training_files = [f for f in path.iterdir() if f.stem.split(\"_\")[-1] in training_months]\n",
    "validation_files = [f for f in path.iterdir() if f.stem.split(\"_\")[-1] in validation_months]\n",
    "testing_files = [f for f in path.iterdir() if f.stem.split(\"_\")[-1] in testing_months]"
   ]
  },
  {
   "cell_type": "code",
   "execution_count": 19,
   "metadata": {},
   "outputs": [],
   "source": [
    "training_data = pd.read_parquet(\n",
    "    training_files,\n",
    "    engine=\"pyarrow\",\n",
    "    columns=green_columns\n",
    ")"
   ]
  },
  {
   "cell_type": "code",
   "execution_count": 20,
   "metadata": {},
   "outputs": [],
   "source": [
    "validation_data = pd.read_parquet(\n",
    "    validation_files,\n",
    "    engine=\"pyarrow\",\n",
    "    columns=green_columns\n",
    ")"
   ]
  },
  {
   "cell_type": "code",
   "execution_count": 21,
   "metadata": {},
   "outputs": [],
   "source": [
    "testing_data = pd.read_parquet(\n",
    "    testing_files,\n",
    "    engine=\"pyarrow\",\n",
    "    columns=green_columns\n",
    ")"
   ]
  },
  {
   "cell_type": "code",
   "execution_count": 22,
   "metadata": {},
   "outputs": [],
   "source": [
    "def calculate_trip_duration(df, pickup_datetime, dropoff_datetime):\n",
    "   df[\"trip_duration\"] = (df[dropoff_datetime] - df[pickup_datetime]) / pd.Timedelta(\"1 minute\")\n",
    "   return df\n",
    "\n",
    "\n",
    "def fill_missing_values(df, columns, replace_missing=-1):\n",
    "   df[columns] = df[columns].fillna(replace_missing)\n",
    "   return df"
   ]
  },
  {
   "cell_type": "markdown",
   "metadata": {},
   "source": [
    "- Convert dates to timestamp (had issue with parsing parquet with out of bound timestamp so had to convert to string)\n",
    "- Calculate sin/cos of hour of trip \n",
    "- Convert appropriate features to categorical\n",
    "- Calculate trip duration (minutes)\n",
    "\n",
    "Keep records within band of:\n",
    "- trip_duration >= 1 min \n",
    "- trip_duration <= 60 min"
   ]
  },
  {
   "cell_type": "code",
   "execution_count": 26,
   "metadata": {},
   "outputs": [],
   "source": [
    "def prep_green_taxi_data(df):\n",
    "    return (df\n",
    "            .assign(\n",
    "                trip_route = df[\"PULocationID\"].astype(str) + \"_\" + df[\"DOLocationID\"].astype(str),\n",
    "            )\n",
    "            .assign(\n",
    "                **{c:lambda df_, c=c:pd.to_datetime(df_[c], unit=\"ns\", errors=\"coerce\") for c in [\"lpep_pickup_datetime\",\"lpep_dropoff_datetime\"]},\n",
    "                day_of_week = lambda df_: df_[\"lpep_pickup_datetime\"].dt.day_name().astype(\"category\"),\n",
    "                hour_of_day = lambda df_: df_[\"lpep_pickup_datetime\"].dt.hour.astype(\"category\"),\n",
    "                hour_of_day_sin = lambda df_: np.sin(df_[\"lpep_pickup_datetime\"].dt.hour*(2*np.pi/24)),\n",
    "                hour_of_day_cos = lambda df_: np.cos(df_[\"lpep_pickup_datetime\"].dt.hour*(2*np.pi/24)),\n",
    "            )\n",
    "            .pipe(calculate_trip_duration, \"lpep_pickup_datetime\",\"lpep_dropoff_datetime\")\n",
    "            .pipe(fill_missing_values, [\"PULocationID\",\"DOLocationID\",\"VendorID\",\"trip_type\"])\n",
    "            .assign(\n",
    "                **{c:lambda df_, c=c:df_[c].astype(\"category\") for c in [\"PULocationID\",\"DOLocationID\",\"VendorID\",\"trip_route\",\"trip_type\"]} \n",
    "            )\n",
    "            .query(\"trip_duration >=1 and trip_duration <= 60\")\n",
    "          \n",
    "           \n",
    "\n",
    "    )"
   ]
  },
  {
   "cell_type": "code",
   "execution_count": 27,
   "metadata": {},
   "outputs": [],
   "source": [
    "def prep_fhvhv_taxi_data(df):\n",
    "    return (df\n",
    "            .assign(\n",
    "                trip_route = df[\"PULocationID\"].astype(str) + \"_\" + df[\"DOLocationID\"].astype(str),\n",
    "                trip_time = df[\"trip_time\"]/60\n",
    "            )\n",
    "            .assign(\n",
    "                **{c:lambda df_, c=c:pd.to_datetime(df_[c], unit=\"ns\", errors=\"coerce\") for c in [\"pickup_datetime\",\"dropoff_datetime\"]},\n",
    "                day_of_week = lambda df_: df_[\"pickup_datetime\"].dt.day_name().astype(\"category\"),\n",
    "                hour_of_day = lambda df_: df_[\"pickup_datetime\"].dt.hour.astype(\"category\"),\n",
    "                hour_of_day_sin = lambda df_: np.sin(df_[\"pickup_datetime\"].dt.hour*(2*np.pi/24)),\n",
    "                hour_of_day_cos = lambda df_: np.cos(df_[\"pickup_datetime\"].dt.hour*(2*np.pi/24)),\n",
    "                **{c:lambda df_, c=c:df_[c].astype(\"category\") for c in [\"PULocationID\",\"DOLocationID\",\"hvfhs_license_num\",\"trip_route\"]} \n",
    "            )\n",
    "            .query(\"trip_time >=1 and trip_time <= 60\")\n",
    "          \n",
    "           \n",
    "\n",
    "    )"
   ]
  },
  {
   "cell_type": "code",
   "execution_count": 28,
   "metadata": {},
   "outputs": [],
   "source": [
    "training_data = prep_green_taxi_data(training_data)\n",
    "validation_data = prep_green_taxi_data(validation_data)\n",
    "testing_data = prep_green_taxi_data(testing_data)"
   ]
  },
  {
   "cell_type": "code",
   "execution_count": 38,
   "metadata": {},
   "outputs": [
    {
     "data": {
      "text/html": [
       "<div>\n",
       "<style scoped>\n",
       "    .dataframe tbody tr th:only-of-type {\n",
       "        vertical-align: middle;\n",
       "    }\n",
       "\n",
       "    .dataframe tbody tr th {\n",
       "        vertical-align: top;\n",
       "    }\n",
       "\n",
       "    .dataframe thead th {\n",
       "        text-align: right;\n",
       "    }\n",
       "</style>\n",
       "<table border=\"1\" class=\"dataframe\">\n",
       "  <thead>\n",
       "    <tr style=\"text-align: right;\">\n",
       "      <th></th>\n",
       "      <th>VendorID</th>\n",
       "      <th>lpep_pickup_datetime</th>\n",
       "      <th>lpep_dropoff_datetime</th>\n",
       "      <th>PULocationID</th>\n",
       "      <th>DOLocationID</th>\n",
       "      <th>trip_distance</th>\n",
       "      <th>trip_type</th>\n",
       "      <th>trip_route</th>\n",
       "      <th>day_of_week</th>\n",
       "      <th>hour_of_day</th>\n",
       "      <th>hour_of_day_sin</th>\n",
       "      <th>hour_of_day_cos</th>\n",
       "      <th>trip_duration</th>\n",
       "    </tr>\n",
       "  </thead>\n",
       "  <tbody>\n",
       "  </tbody>\n",
       "</table>\n",
       "</div>"
      ],
      "text/plain": [
       "Empty DataFrame\n",
       "Columns: [VendorID, lpep_pickup_datetime, lpep_dropoff_datetime, PULocationID, DOLocationID, trip_distance, trip_type, trip_route, day_of_week, hour_of_day, hour_of_day_sin, hour_of_day_cos, trip_duration]\n",
       "Index: []"
      ]
     },
     "execution_count": 38,
     "metadata": {},
     "output_type": "execute_result"
    }
   ],
   "source": [
    "validation_data.query(\"trip_duration>60\")"
   ]
  },
  {
   "cell_type": "code",
   "execution_count": 40,
   "metadata": {},
   "outputs": [],
   "source": [
    "def preprocess(\n",
    "    data: pd.DataFrame, \n",
    "    features: List,\n",
    "    dv: DictVectorizer,\n",
    "    fit_dv: bool = False) -> (List, DictVectorizer):\n",
    "    \n",
    "    dicts = data[features].to_dict(orient=\"records\")\n",
    "    \n",
    "    if fit_dv:\n",
    "        X = dv.fit_transform(dicts)\n",
    "    else:\n",
    "        X = dv.transform(dicts)\n",
    "    return X, dv\n",
    "    \n",
    "    "
   ]
  },
  {
   "cell_type": "code",
   "execution_count": 30,
   "metadata": {},
   "outputs": [],
   "source": [
    "features = [\n",
    "    'VendorID',\n",
    "    'PULocationID',\n",
    "    'DOLocationID', \n",
    "    'trip_distance',\n",
    "    'trip_type', \n",
    "    'trip_route',\n",
    "    'day_of_week',\n",
    "    'hour_of_day']\n",
    "\n",
    "target = 'trip_duration'\n",
    "\n",
    "dv = DictVectorizer()"
   ]
  },
  {
   "cell_type": "code",
   "execution_count": 31,
   "metadata": {},
   "outputs": [],
   "source": [
    "X_train, dv = preprocess(training_data, features, dv, fit_dv=True)\n",
    "X_val, _ = preprocess(validation_data, features, dv, fit_dv=False)\n",
    "X_test, _ = preprocess(testing_data, features, dv, fit_dv=False)\n",
    "\n",
    "y_train = training_data[target].values\n",
    "y_val = validation_data[target].values\n",
    "y_test = testing_data[target].values"
   ]
  },
  {
   "cell_type": "code",
   "execution_count": 41,
   "metadata": {},
   "outputs": [],
   "source": [
    "def fit_model(model, X_train: List, y_train: List, X_val: List) -> List:\n",
    "    model.fit(X_train, y_train)\n",
    "    y_pred = model.predict(X_val)\n",
    "    \n",
    "    return y_pred"
   ]
  },
  {
   "cell_type": "code",
   "execution_count": 42,
   "metadata": {},
   "outputs": [],
   "source": [
    "y_pred_lr = fit_model(LinearRegression(), X_train, y_train, X_val)"
   ]
  },
  {
   "cell_type": "code",
   "execution_count": 51,
   "metadata": {},
   "outputs": [],
   "source": [
    "features = [\n",
    "    'VendorID',\n",
    "    'PULocationID',\n",
    "    'DOLocationID', \n",
    "    'trip_distance',\n",
    "    'trip_type', \n",
    "    'trip_route',\n",
    "    'day_of_week',\n",
    "    'hour_of_day_sin',\n",
    "    'hour_of_day_cos']\n",
    "\n",
    "target = 'trip_duration'\n",
    "\n",
    "dv = DictVectorizer()\n",
    "\n",
    "#\n",
    "\n",
    "X_train, dv = preprocess(training_data, features, dv, fit_dv=True)\n",
    "X_val, _ = preprocess(validation_data, features, dv, fit_dv=False)\n",
    "X_test, _ = preprocess(testing_data, features, dv, fit_dv=False)\n",
    "\n",
    "y_train = training_data[target].values\n",
    "y_val = validation_data[target].values\n",
    "y_test = testing_data[target].values"
   ]
  },
  {
   "cell_type": "code",
   "execution_count": 53,
   "metadata": {},
   "outputs": [],
   "source": [
    "y_pred_lr2 = fit_model(LinearRegression(), X_train, y_train, X_val)"
   ]
  },
  {
   "cell_type": "code",
   "execution_count": 54,
   "metadata": {},
   "outputs": [
    {
     "name": "stdout",
     "output_type": "stream",
     "text": [
      "Our model is incorrect on average by 13.35 minutes\n"
     ]
    }
   ],
   "source": [
    "rmse = mean_squared_error(y_val, y_pred_lr, squared=False)\n",
    "print(f\"Our model is incorrect on average by {round(rmse,3)} minutes\")"
   ]
  },
  {
   "cell_type": "code",
   "execution_count": 55,
   "metadata": {},
   "outputs": [
    {
     "name": "stdout",
     "output_type": "stream",
     "text": [
      "Our model is incorrect on average by 13.284 minutes\n"
     ]
    }
   ],
   "source": [
    "rmse = mean_squared_error(y_val, y_pred_lr2, squared=False)\n",
    "print(f\"Our model is incorrect on average by {round(rmse,3)} minutes\")"
   ]
  },
  {
   "cell_type": "code",
   "execution_count": 39,
   "metadata": {},
   "outputs": [
    {
     "data": {
      "image/png": "[encoded data removed]",
      "text/plain": [
       "<Figure size 720x720 with 1 Axes>"
      ]
     },
     "metadata": {
      "needs_background": "light"
     },
     "output_type": "display_data"
    }
   ],
   "source": [
    "data = {\"predicted\": y_pred, \"actual\": y_val}\n",
    "ax = sns.histplot(data, kde=True, alpha=0.6)\n",
    "ax.set(xlabel=\"Trip Duration (min)\")\n",
    "ax.figure.set_size_inches(10, 10)"
   ]
  },
  {
   "cell_type": "markdown",
   "metadata": {},
   "source": [
    "Lasso"
   ]
  },
  {
   "cell_type": "markdown",
   "metadata": {},
   "source": [
    "Getting more creative with our features we train our model with"
   ]
  },
  {
   "cell_type": "code",
   "execution_count": 51,
   "metadata": {},
   "outputs": [],
   "source": [
    "def prep_dataset(df, categorical, numerical, target):\n",
    "    print(f\"Original data has {df.shape[0]} records.\")\n",
    "\n",
    "    df[\"trip_duration\"] = calculate_trip_duration(df, \"pickup_datetime\", \"dropOff_datetime\")\n",
    "    df[\"PUlocationID\"] = df[\"PUlocationID\"].fillna(-1)\n",
    "    df[\"DOlocationID\"] = df[\"DOlocationID\"].fillna(-1)\n",
    "\n",
    "\n",
    "    df[\"trip_route\"] = df[\"PUlocationID\"].astype(str) + \"_\" + df[\"DOlocationID\"].astype(str)\n",
    "    df[\"day_of_week\"] = df[\"pickup_datetime\"].dt.day_name()\n",
    "    df[\"hour_of_day\"] = df[\"pickup_datetime\"].dt.hour\n",
    "\n",
    "    df = df.loc[(df[\"trip_duration\"]>=1) & (df[\"trip_duration\"]<=60)].copy()\n",
    "\n",
    "    if categorical:\n",
    "        df[categorical] = df[categorical].astype(str)\n",
    "    if numerical:\n",
    "        df[numerical] = df[numerical].astype(float)\n",
    "\n",
    "    print(f\"Final data has {df.shape[0]} records.\")\n",
    "\n",
    "    return df"
   ]
  },
  {
   "cell_type": "code",
   "execution_count": 52,
   "metadata": {},
   "outputs": [],
   "source": [
    "categorical = [\"PUlocationID\",\"DOlocationID\", \"trip_route\",\"hour_of_day\"]\n",
    "numerical = None\n",
    "target=[\"trip_duration\"]"
   ]
  },
  {
   "cell_type": "code",
   "execution_count": 53,
   "metadata": {},
   "outputs": [
    {
     "name": "stdout",
     "output_type": "stream",
     "text": [
      "Original data has 1154112 records.\n",
      "Final data has 1109826 records.\n"
     ]
    }
   ],
   "source": [
    "df_train = prep_dataset(\n",
    "    df=download_parquet_to_df(year_month=\"2021-01\", taxi_type=\"fhv\"),\n",
    "    categorical= categorical,\n",
    "    numerical = numerical,\n",
    "    target= target)"
   ]
  },
  {
   "cell_type": "code",
   "execution_count": 54,
   "metadata": {},
   "outputs": [
    {
     "name": "stdout",
     "output_type": "stream",
     "text": [
      "Original data has 1037692 records.\n",
      "Final data has 990113 records.\n"
     ]
    }
   ],
   "source": [
    "df_val= prep_dataset(\n",
    "    df=download_parquet_to_df(year_month=\"2021-02\", taxi_type=\"fhv\"),\n",
    "    categorical= categorical,\n",
    "    numerical = numerical,\n",
    "    target= target)"
   ]
  },
  {
   "cell_type": "code",
   "execution_count": 55,
   "metadata": {},
   "outputs": [],
   "source": [
    "dv = DictVectorizer()\n",
    "\n",
    "train_dicts = df_train[categorical].to_dict(orient=\"records\")\n",
    "val_dicts = df_val[categorical].to_dict(orient=\"records\")\n",
    "\n",
    "\n",
    "X_train = dv.fit_transform(train_dicts)\n",
    "X_val = dv.transform(val_dicts)\n",
    "\n",
    "y_train = df_train[target].values\n",
    "y_val = df_val[target].values"
   ]
  },
  {
   "cell_type": "code",
   "execution_count": 56,
   "metadata": {},
   "outputs": [
    {
     "name": "stdout",
     "output_type": "stream",
     "text": [
      "Our model is incorrect on average by 10.504 minutes\n"
     ]
    }
   ],
   "source": [
    "lr = LinearRegression()\n",
    "lr.fit(X_train, y_train)\n",
    "\n",
    "y_pred = lr.predict(X_val)\n",
    "\n",
    "mse = mean_squared_error(y_val, y_pred, squared=False)\n",
    "print(f\"Our model is incorrect on average by {round(mse,3)} minutes\")"
   ]
  },
  {
   "cell_type": "code",
   "execution_count": 57,
   "metadata": {},
   "outputs": [
    {
     "data": {
      "image/png": "[encoded data removed]",
      "text/plain": [
       "<Figure size 432x432 with 1 Axes>"
      ]
     },
     "metadata": {
      "needs_background": "light"
     },
     "output_type": "display_data"
    }
   ],
   "source": [
    "data = {\"predicted\": y_pred.squeeze(), \"actual\": y_val.squeeze()}\n",
    "ax = sns.histplot(data, kde=True, alpha=0.5)\n",
    "ax.set(xlabel=\"Trip Duration (min)\")\n",
    "ax.figure.set_size_inches(6, 6)"
   ]
  },
  {
   "cell_type": "code",
   "execution_count": null,
   "metadata": {},
   "outputs": [],
   "source": []
  }
 ],
 "metadata": {
  "interpreter": {
   "hash": "5a1e437193a2402c0692e29c42aa94d26d2b23bd591617315d393c7d805daf7d"
  },
  "kernelspec": {
   "display_name": "Python 3.9.9 64-bit ('mlops-env')",
   "language": "python",
   "name": "python3"
  },
  "language_info": {
   "codemirror_mode": {
    "name": "ipython",
    "version": 3
   },
   "file_extension": ".py",
   "mimetype": "text/x-python",
   "name": "python",
   "nbconvert_exporter": "python",
   "pygments_lexer": "ipython3",
   "version": "3.9.9"
  }
 },
 "nbformat": 4,
 "nbformat_minor": 2
}
